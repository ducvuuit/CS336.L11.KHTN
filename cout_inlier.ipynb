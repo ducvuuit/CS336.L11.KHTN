{
  "nbformat": 4,
  "nbformat_minor": 0,
  "metadata": {
    "colab": {
      "name": "download11.ipynb",
      "private_outputs": true,
      "provenance": [],
      "collapsed_sections": []
    },
    "kernelspec": {
      "name": "python3",
      "display_name": "Python 3"
    }
  },
  "cells": [
    {
      "cell_type": "code",
      "metadata": {
        "id": "92_3cOcR9LS9"
      },
      "source": [
        "import numpy as np\r\n",
        "import cv2 as cv\r\n",
        "from matplotlib import pyplot as plt\r\n",
        "MIN_MATCH_COUNT = 10\r\n",
        "img1 = cv.imread('/content/1596_00163.jpg',0)          # queryImage\r\n",
        "img2 = cv.imread('/content/1598_00727.jpg',0) # trainImage\r\n",
        "# Initiate SIFT detector\r\n",
        "sift = cv.xfeatures2d.SIFT_create()\r\n",
        "# find the keypoints and descriptors with SIFT\r\n",
        "kp1, des1 = sift.detectAndCompute(img1,None)\r\n",
        "kp2, des2 = sift.detectAndCompute(img2,None)\r\n",
        "FLANN_INDEX_KDTREE = 1\r\n",
        "index_params = dict(algorithm = FLANN_INDEX_KDTREE, trees = 5)\r\n",
        "search_params = dict(checks = 50)\r\n",
        "flann = cv.FlannBasedMatcher(index_params, search_params)\r\n",
        "matches = flann.knnMatch(des1,des2,k=2)\r\n",
        "# store all the good matches as per Lowe's ratio test.\r\n",
        "good = []\r\n",
        "for m,n in matches:\r\n",
        "    if m.distance < 0.7*n.distance:\r\n",
        "        good.append(m)"
      ],
      "execution_count": null,
      "outputs": []
    },
    {
      "cell_type": "code",
      "metadata": {
        "id": "4kT2xOAxAv1t"
      },
      "source": [
        "len(good)"
      ],
      "execution_count": null,
      "outputs": []
    },
    {
      "cell_type": "code",
      "metadata": {
        "id": "rrqZkusL-pzo"
      },
      "source": [
        "if len(good)>MIN_MATCH_COUNT:\r\n",
        "    src_pts = np.float32([ kp1[m.queryIdx].pt for m in good ]).reshape(-1,1,2)\r\n",
        "    dst_pts = np.float32([ kp2[m.trainIdx].pt for m in good ]).reshape(-1,1,2)\r\n",
        "    M, mask = cv.findHomography(src_pts, dst_pts, cv.RANSAC,5.0)\r\n",
        "    matchesMask = mask.ravel().tolist()\r\n",
        "    h,w = img1.shape\r\n",
        "    pts = np.float32([ [0,0],[0,h-1],[w-1,h-1],[w-1,0] ]).reshape(-1,1,2)\r\n",
        "    dst = cv.perspectiveTransform(pts,M)\r\n",
        "    img2 = cv.polylines(img2,[np.int32(dst)],True,255,3, cv.LINE_AA)\r\n",
        "else:\r\n",
        "    print( \"Not enough matches are found - {}/{}\".format(len(good), MIN_MATCH_COUNT) )\r\n",
        "    matchesMask = None"
      ],
      "execution_count": null,
      "outputs": []
    },
    {
      "cell_type": "code",
      "metadata": {
        "id": "mdZNUxbfAKGI"
      },
      "source": [
        "draw_params = dict(matchColor = (0,255,0), # draw matches in green color\r\n",
        "                   singlePointColor = None,\r\n",
        "                   matchesMask = matchesMask, # draw only inliers\r\n",
        "                   flags = 2)\r\n",
        "img3 = cv.drawMatches(img1,kp1,img2,kp2,good,None,**draw_params)\r\n",
        "plt.imshow(img3, 'gray'),plt.show()"
      ],
      "execution_count": null,
      "outputs": []
    }
  ]
}